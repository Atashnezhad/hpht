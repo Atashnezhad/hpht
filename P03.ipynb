{
 "cells": [
  {
   "cell_type": "markdown",
   "source": [
    "# Power law model fit"
   ],
   "metadata": {
    "collapsed": false
   }
  },
  {
   "cell_type": "code",
   "execution_count": 1,
   "outputs": [],
   "source": [
    "# !pip install scipy"
   ],
   "metadata": {
    "collapsed": false
   }
  },
  {
   "cell_type": "code",
   "execution_count": 1,
   "outputs": [
    {
     "name": "stdout",
     "output_type": "stream",
     "text": [
      "dict_keys(['HPyBF4_CP', 'HPyBF4_CT', 'HPyBr_CP', 'HPyBr_CT', 'OPyBr_CP', 'BMIMBr_CP_CT', 'BMIMBr_CT', 'DES117_CP'])\n"
     ]
    },
    {
     "data": {
      "text/plain": "<Figure size 1200x800 with 0 Axes>"
     },
     "metadata": {},
     "output_type": "display_data"
    },
    {
     "data": {
      "text/plain": "<Figure size 1200x800 with 0 Axes>"
     },
     "metadata": {},
     "output_type": "display_data"
    },
    {
     "name": "stderr",
     "output_type": "stream",
     "text": [
      "/Users/amin/Downloads/hpht/main.py:235: RuntimeWarning: divide by zero encountered in double_scalars\n",
      "  R_squared = 1 - (RSS / TSS)\n"
     ]
    },
    {
     "data": {
      "text/plain": "<Figure size 1200x800 with 0 Axes>"
     },
     "metadata": {},
     "output_type": "display_data"
    }
   ],
   "source": [
    "from pathlib import Path\n",
    "import json\n",
    "import pandas as pd\n",
    "from main import MyPlot\n",
    "import numpy as np\n",
    "import matplotlib.pyplot as plt\n",
    "from scipy.optimize import curve_fit\n",
    "\n",
    "# read data from the data folder\n",
    "data_folder = Path(\"__file__\").parent / \"data\"\n",
    "data_file_name = \"data.json\"\n",
    "with open(data_folder / data_file_name, \"r\") as f:\n",
    "    json_data = f.read()\n",
    "# Parse the JSON data\n",
    "data = json.loads(json_data)\n",
    "\n",
    "# print keys of the data\n",
    "print(data.keys())\n",
    "\n",
    "obj = MyPlot()\n",
    "\n",
    "my_list =[\n",
    "    'HPyBF4_CP',\n",
    "    # 'HPyBF4_CT',\n",
    "\n",
    "    'HPyBr_CP',\n",
    "    # 'HPyBr_CT',\n",
    "\n",
    "    'OPyBr_CP',\n",
    "\n",
    "    # 'BMIMBr_CP_CT',\n",
    "    # 'BMIMBr_CT'\n",
    "\n",
    "    # 'DES117_CP'\n",
    "]\n",
    "\n",
    "mapping_dict = {\n",
    "    \"HPyBF4_CP\": \"1-Hexylpyridinium tetrafluoroborate (HPyBF4)\",\n",
    "    \"HPyBr_CP\": \"N-Hexylpyridinium bromide (HPyBr)\",\n",
    "    \"OPyBr_CP\": \"1-Octylpyridinium bromide (OPyBr)\",\n",
    "    \"HPyBF4_CT\": \"1-Hexylpyridinium tetrafluoroborate (HPyBF4)\",\n",
    "    \"HPyBr_CT\": \"N-Hexylpyridinium bromide (HPyBr)\",\n",
    "    \"BMIMBr_CP_CT\": \"1-Butyl-3-methylimidazolium bromide (BMIMBr)\",\n",
    "    \"BMIMBr_CT\": \"1-Butyl-3-methylimidazolium bromide (BMIMBr)\",\n",
    "    \"DES117_CP\": \"ChCl-MgCl2(6H2O) (DES117)\"\n",
    "}\n",
    "\n",
    "for case in my_list:\n",
    "    obj.plot_data_3(\n",
    "    data,\n",
    "    case,\n",
    "    grouop_by_parameter='T',\n",
    "    x_parameter='SR',\n",
    "    y_parameter='SS',\n",
    "    legend_units='deg F',\n",
    "    x_axis_label='Shear rate (1/sec)',\n",
    "    y_axis_label='Shear Stress (dyne/cm^2)',\n",
    "    maping_dict=mapping_dict,\n",
    "    font_size=22,\n",
    "    axis_font_size=22,\n",
    "    temps_used_fit=[74, 120, 220, 310, 410, 480],\n",
    "    x_axis_lim=(0,150)\n",
    ")"
   ],
   "metadata": {
    "collapsed": false,
    "ExecuteTime": {
     "end_time": "2023-06-08T19:16:31.258463Z",
     "start_time": "2023-06-08T19:16:28.403387Z"
    }
   }
  },
  {
   "cell_type": "code",
   "execution_count": 1,
   "metadata": {
    "ExecuteTime": {
     "end_time": "2023-06-08T19:16:31.258970Z",
     "start_time": "2023-06-08T19:16:31.248823Z"
    }
   },
   "outputs": [],
   "source": []
  },
  {
   "cell_type": "code",
   "execution_count": 2,
   "metadata": {
    "ExecuteTime": {
     "end_time": "2023-06-08T19:16:31.273908Z",
     "start_time": "2023-06-08T19:16:31.258123Z"
    }
   },
   "outputs": [
    {
     "data": {
      "text/plain": "                                    Ionic Liquid  Temperature (F)      n  \\\n0   1-Hexylpyridinium tetrafluoroborate (HPyBF4)               74  0.972   \n1   1-Hexylpyridinium tetrafluoroborate (HPyBF4)              120  0.952   \n2   1-Hexylpyridinium tetrafluoroborate (HPyBF4)              220  0.262   \n3   1-Hexylpyridinium tetrafluoroborate (HPyBF4)              310  0.059   \n4   1-Hexylpyridinium tetrafluoroborate (HPyBF4)              410  0.000   \n5   1-Hexylpyridinium tetrafluoroborate (HPyBF4)              480  0.038   \n6              N-Hexylpyridinium bromide (HPyBr)               74  0.981   \n7              N-Hexylpyridinium bromide (HPyBr)              120  0.799   \n8              N-Hexylpyridinium bromide (HPyBr)              220  0.109   \n9              N-Hexylpyridinium bromide (HPyBr)              310  0.027   \n10             N-Hexylpyridinium bromide (HPyBr)              410 -0.031   \n11             N-Hexylpyridinium bromide (HPyBr)              480  0.063   \n12             1-Octylpyridinium bromide (OPyBr)               74  1.037   \n13             1-Octylpyridinium bromide (OPyBr)              120  1.012   \n14             1-Octylpyridinium bromide (OPyBr)              220  0.133   \n15             1-Octylpyridinium bromide (OPyBr)              310  0.016   \n16             1-Octylpyridinium bromide (OPyBr)              410 -0.003   \n17             1-Octylpyridinium bromide (OPyBr)              480 -0.000   \n\n         K    r2  \n0    3.848  1.00  \n1    0.943  1.00  \n2    4.340  0.94  \n3    7.668  0.85  \n4    9.186  0.01  \n5    7.623  0.69  \n6    7.631  1.00  \n7    5.497  1.00  \n8   18.798  0.78  \n9   17.406  0.74  \n10  18.875  0.76  \n11   8.866  0.92  \n12   9.036  1.00  \n13   2.902  1.00  \n14  18.339  0.80  \n15  21.746  0.52  \n16  21.982  0.78  \n17  21.734  -inf  ",
      "text/html": "<div>\n<style scoped>\n    .dataframe tbody tr th:only-of-type {\n        vertical-align: middle;\n    }\n\n    .dataframe tbody tr th {\n        vertical-align: top;\n    }\n\n    .dataframe thead th {\n        text-align: right;\n    }\n</style>\n<table border=\"1\" class=\"dataframe\">\n  <thead>\n    <tr style=\"text-align: right;\">\n      <th></th>\n      <th>Ionic Liquid</th>\n      <th>Temperature (F)</th>\n      <th>n</th>\n      <th>K</th>\n      <th>r2</th>\n    </tr>\n  </thead>\n  <tbody>\n    <tr>\n      <th>0</th>\n      <td>1-Hexylpyridinium tetrafluoroborate (HPyBF4)</td>\n      <td>74</td>\n      <td>0.972</td>\n      <td>3.848</td>\n      <td>1.00</td>\n    </tr>\n    <tr>\n      <th>1</th>\n      <td>1-Hexylpyridinium tetrafluoroborate (HPyBF4)</td>\n      <td>120</td>\n      <td>0.952</td>\n      <td>0.943</td>\n      <td>1.00</td>\n    </tr>\n    <tr>\n      <th>2</th>\n      <td>1-Hexylpyridinium tetrafluoroborate (HPyBF4)</td>\n      <td>220</td>\n      <td>0.262</td>\n      <td>4.340</td>\n      <td>0.94</td>\n    </tr>\n    <tr>\n      <th>3</th>\n      <td>1-Hexylpyridinium tetrafluoroborate (HPyBF4)</td>\n      <td>310</td>\n      <td>0.059</td>\n      <td>7.668</td>\n      <td>0.85</td>\n    </tr>\n    <tr>\n      <th>4</th>\n      <td>1-Hexylpyridinium tetrafluoroborate (HPyBF4)</td>\n      <td>410</td>\n      <td>0.000</td>\n      <td>9.186</td>\n      <td>0.01</td>\n    </tr>\n    <tr>\n      <th>5</th>\n      <td>1-Hexylpyridinium tetrafluoroborate (HPyBF4)</td>\n      <td>480</td>\n      <td>0.038</td>\n      <td>7.623</td>\n      <td>0.69</td>\n    </tr>\n    <tr>\n      <th>6</th>\n      <td>N-Hexylpyridinium bromide (HPyBr)</td>\n      <td>74</td>\n      <td>0.981</td>\n      <td>7.631</td>\n      <td>1.00</td>\n    </tr>\n    <tr>\n      <th>7</th>\n      <td>N-Hexylpyridinium bromide (HPyBr)</td>\n      <td>120</td>\n      <td>0.799</td>\n      <td>5.497</td>\n      <td>1.00</td>\n    </tr>\n    <tr>\n      <th>8</th>\n      <td>N-Hexylpyridinium bromide (HPyBr)</td>\n      <td>220</td>\n      <td>0.109</td>\n      <td>18.798</td>\n      <td>0.78</td>\n    </tr>\n    <tr>\n      <th>9</th>\n      <td>N-Hexylpyridinium bromide (HPyBr)</td>\n      <td>310</td>\n      <td>0.027</td>\n      <td>17.406</td>\n      <td>0.74</td>\n    </tr>\n    <tr>\n      <th>10</th>\n      <td>N-Hexylpyridinium bromide (HPyBr)</td>\n      <td>410</td>\n      <td>-0.031</td>\n      <td>18.875</td>\n      <td>0.76</td>\n    </tr>\n    <tr>\n      <th>11</th>\n      <td>N-Hexylpyridinium bromide (HPyBr)</td>\n      <td>480</td>\n      <td>0.063</td>\n      <td>8.866</td>\n      <td>0.92</td>\n    </tr>\n    <tr>\n      <th>12</th>\n      <td>1-Octylpyridinium bromide (OPyBr)</td>\n      <td>74</td>\n      <td>1.037</td>\n      <td>9.036</td>\n      <td>1.00</td>\n    </tr>\n    <tr>\n      <th>13</th>\n      <td>1-Octylpyridinium bromide (OPyBr)</td>\n      <td>120</td>\n      <td>1.012</td>\n      <td>2.902</td>\n      <td>1.00</td>\n    </tr>\n    <tr>\n      <th>14</th>\n      <td>1-Octylpyridinium bromide (OPyBr)</td>\n      <td>220</td>\n      <td>0.133</td>\n      <td>18.339</td>\n      <td>0.80</td>\n    </tr>\n    <tr>\n      <th>15</th>\n      <td>1-Octylpyridinium bromide (OPyBr)</td>\n      <td>310</td>\n      <td>0.016</td>\n      <td>21.746</td>\n      <td>0.52</td>\n    </tr>\n    <tr>\n      <th>16</th>\n      <td>1-Octylpyridinium bromide (OPyBr)</td>\n      <td>410</td>\n      <td>-0.003</td>\n      <td>21.982</td>\n      <td>0.78</td>\n    </tr>\n    <tr>\n      <th>17</th>\n      <td>1-Octylpyridinium bromide (OPyBr)</td>\n      <td>480</td>\n      <td>-0.000</td>\n      <td>21.734</td>\n      <td>-inf</td>\n    </tr>\n  </tbody>\n</table>\n</div>"
     },
     "execution_count": 2,
     "metadata": {},
     "output_type": "execute_result"
    }
   ],
   "source": [
    "obj.correlation_coefficient\n",
    "pd.DataFrame(obj.correlation_coefficient)"
   ]
  },
  {
   "cell_type": "code",
   "execution_count": null,
   "metadata": {
    "ExecuteTime": {
     "end_time": "2023-06-06T12:28:52.170620600Z",
     "start_time": "2023-06-06T12:28:52.152619700Z"
    }
   },
   "outputs": [],
   "source": []
  },
  {
   "cell_type": "code",
   "execution_count": null,
   "metadata": {},
   "outputs": [],
   "source": []
  },
  {
   "cell_type": "code",
   "execution_count": null,
   "metadata": {},
   "outputs": [],
   "source": []
  },
  {
   "cell_type": "code",
   "execution_count": null,
   "metadata": {},
   "outputs": [],
   "source": []
  },
  {
   "cell_type": "code",
   "execution_count": null,
   "metadata": {},
   "outputs": [],
   "source": []
  },
  {
   "cell_type": "markdown",
   "metadata": {},
   "source": [
    "# Constant Temperature"
   ]
  },
  {
   "cell_type": "code",
   "execution_count": 11,
   "metadata": {
    "ExecuteTime": {
     "end_time": "2023-06-06T12:32:56.014221Z",
     "start_time": "2023-06-06T12:32:56.008159700Z"
    }
   },
   "outputs": [],
   "source": [
    "obj = MyPlot()"
   ]
  },
  {
   "cell_type": "code",
   "execution_count": 12,
   "metadata": {
    "ExecuteTime": {
     "end_time": "2023-06-06T12:32:56.833549500Z",
     "start_time": "2023-06-06T12:32:56.231563100Z"
    }
   },
   "outputs": [
    {
     "data": {
      "text/plain": [
       "<Figure size 1200x800 with 0 Axes>"
      ]
     },
     "metadata": {},
     "output_type": "display_data"
    },
    {
     "data": {
      "text/plain": [
       "<Figure size 1200x800 with 0 Axes>"
      ]
     },
     "metadata": {},
     "output_type": "display_data"
    }
   ],
   "source": [
    "my_list =[\n",
    "    # 'HPyBF4_CP',\n",
    "    'HPyBF4_CT',\n",
    "\n",
    "    # 'HPyBr_CP',\n",
    "    'HPyBr_CT',\n",
    "\n",
    "    # 'OPyBr_CP',\n",
    "\n",
    "    # 'BMIMBr_CP_CT',\n",
    "    # 'BMIMBr_CT'\n",
    "\n",
    "    # 'DES117_CP'\n",
    "]\n",
    "\n",
    "for case in my_list:\n",
    "    obj.plot_data_3(\n",
    "    data,\n",
    "    case,\n",
    "    grouop_by_parameter='P',\n",
    "    x_parameter='SR',\n",
    "    y_parameter='SS',\n",
    "    legend_units='deg F',\n",
    "    x_axis_label='Shear rate (1/sec)',\n",
    "    y_axis_label='Shear Stress (dyne/cm^2)',\n",
    "    maping_dict=mapping_dict,\n",
    "    font_size=22,\n",
    "    axis_font_size=22,\n",
    "    temps_used_fit=[100, 500, 800, 1300, 1800],\n",
    "    x_axis_lim=(0,150)\n",
    ")"
   ]
  },
  {
   "cell_type": "code",
   "execution_count": 13,
   "metadata": {
    "ExecuteTime": {
     "end_time": "2023-06-06T12:32:56.938574100Z",
     "start_time": "2023-06-06T12:32:56.835551500Z"
    }
   },
   "outputs": [
    {
     "data": {
      "text/html": [
       "<div>\n",
       "<style scoped>\n",
       "    .dataframe tbody tr th:only-of-type {\n",
       "        vertical-align: middle;\n",
       "    }\n",
       "\n",
       "    .dataframe tbody tr th {\n",
       "        vertical-align: top;\n",
       "    }\n",
       "\n",
       "    .dataframe thead th {\n",
       "        text-align: right;\n",
       "    }\n",
       "</style>\n",
       "<table border=\"1\" class=\"dataframe\">\n",
       "  <thead>\n",
       "    <tr style=\"text-align: right;\">\n",
       "      <th></th>\n",
       "      <th>Ionic Liquid</th>\n",
       "      <th>Pressure (psi)</th>\n",
       "      <th>n</th>\n",
       "      <th>K</th>\n",
       "      <th>r2</th>\n",
       "    </tr>\n",
       "  </thead>\n",
       "  <tbody>\n",
       "    <tr>\n",
       "      <th>0</th>\n",
       "      <td>1-Hexylpyridinium tetrafluoroborate (HPyBF4)</td>\n",
       "      <td>100</td>\n",
       "      <td>0.382</td>\n",
       "      <td>0.137</td>\n",
       "      <td>0.33</td>\n",
       "    </tr>\n",
       "    <tr>\n",
       "      <th>1</th>\n",
       "      <td>1-Hexylpyridinium tetrafluoroborate (HPyBF4)</td>\n",
       "      <td>500</td>\n",
       "      <td>0.255</td>\n",
       "      <td>0.406</td>\n",
       "      <td>0.47</td>\n",
       "    </tr>\n",
       "    <tr>\n",
       "      <th>2</th>\n",
       "      <td>1-Hexylpyridinium tetrafluoroborate (HPyBF4)</td>\n",
       "      <td>800</td>\n",
       "      <td>0.208</td>\n",
       "      <td>0.497</td>\n",
       "      <td>0.47</td>\n",
       "    </tr>\n",
       "    <tr>\n",
       "      <th>3</th>\n",
       "      <td>1-Hexylpyridinium tetrafluoroborate (HPyBF4)</td>\n",
       "      <td>1300</td>\n",
       "      <td>0.306</td>\n",
       "      <td>0.377</td>\n",
       "      <td>0.98</td>\n",
       "    </tr>\n",
       "    <tr>\n",
       "      <th>4</th>\n",
       "      <td>1-Hexylpyridinium tetrafluoroborate (HPyBF4)</td>\n",
       "      <td>1800</td>\n",
       "      <td>0.291</td>\n",
       "      <td>0.418</td>\n",
       "      <td>0.93</td>\n",
       "    </tr>\n",
       "    <tr>\n",
       "      <th>5</th>\n",
       "      <td>N-Hexylpyridinium bromide (HPyBr)</td>\n",
       "      <td>100</td>\n",
       "      <td>0.661</td>\n",
       "      <td>0.067</td>\n",
       "      <td>0.93</td>\n",
       "    </tr>\n",
       "    <tr>\n",
       "      <th>6</th>\n",
       "      <td>N-Hexylpyridinium bromide (HPyBr)</td>\n",
       "      <td>500</td>\n",
       "      <td>0.341</td>\n",
       "      <td>0.295</td>\n",
       "      <td>0.77</td>\n",
       "    </tr>\n",
       "    <tr>\n",
       "      <th>7</th>\n",
       "      <td>N-Hexylpyridinium bromide (HPyBr)</td>\n",
       "      <td>800</td>\n",
       "      <td>0.429</td>\n",
       "      <td>0.230</td>\n",
       "      <td>0.83</td>\n",
       "    </tr>\n",
       "    <tr>\n",
       "      <th>8</th>\n",
       "      <td>N-Hexylpyridinium bromide (HPyBr)</td>\n",
       "      <td>1300</td>\n",
       "      <td>0.435</td>\n",
       "      <td>0.242</td>\n",
       "      <td>0.92</td>\n",
       "    </tr>\n",
       "    <tr>\n",
       "      <th>9</th>\n",
       "      <td>N-Hexylpyridinium bromide (HPyBr)</td>\n",
       "      <td>1800</td>\n",
       "      <td>0.203</td>\n",
       "      <td>0.718</td>\n",
       "      <td>0.41</td>\n",
       "    </tr>\n",
       "  </tbody>\n",
       "</table>\n",
       "</div>"
      ],
      "text/plain": [
       "                                   Ionic Liquid  Pressure (psi)      n      K   \n",
       "0  1-Hexylpyridinium tetrafluoroborate (HPyBF4)             100  0.382  0.137  \\\n",
       "1  1-Hexylpyridinium tetrafluoroborate (HPyBF4)             500  0.255  0.406   \n",
       "2  1-Hexylpyridinium tetrafluoroborate (HPyBF4)             800  0.208  0.497   \n",
       "3  1-Hexylpyridinium tetrafluoroborate (HPyBF4)            1300  0.306  0.377   \n",
       "4  1-Hexylpyridinium tetrafluoroborate (HPyBF4)            1800  0.291  0.418   \n",
       "5             N-Hexylpyridinium bromide (HPyBr)             100  0.661  0.067   \n",
       "6             N-Hexylpyridinium bromide (HPyBr)             500  0.341  0.295   \n",
       "7             N-Hexylpyridinium bromide (HPyBr)             800  0.429  0.230   \n",
       "8             N-Hexylpyridinium bromide (HPyBr)            1300  0.435  0.242   \n",
       "9             N-Hexylpyridinium bromide (HPyBr)            1800  0.203  0.718   \n",
       "\n",
       "     r2  \n",
       "0  0.33  \n",
       "1  0.47  \n",
       "2  0.47  \n",
       "3  0.98  \n",
       "4  0.93  \n",
       "5  0.93  \n",
       "6  0.77  \n",
       "7  0.83  \n",
       "8  0.92  \n",
       "9  0.41  "
      ]
     },
     "execution_count": 13,
     "metadata": {},
     "output_type": "execute_result"
    }
   ],
   "source": [
    "pd.DataFrame(obj.correlation_coefficient)"
   ]
  },
  {
   "cell_type": "code",
   "execution_count": null,
   "metadata": {},
   "outputs": [],
   "source": []
  },
  {
   "cell_type": "code",
   "execution_count": null,
   "metadata": {},
   "outputs": [],
   "source": []
  },
  {
   "cell_type": "code",
   "execution_count": null,
   "metadata": {},
   "outputs": [],
   "source": []
  }
 ],
 "metadata": {
  "kernelspec": {
   "display_name": "Python 3 (ipykernel)",
   "language": "python",
   "name": "python3"
  },
  "language_info": {
   "codemirror_mode": {
    "name": "ipython",
    "version": 3
   },
   "file_extension": ".py",
   "mimetype": "text/x-python",
   "name": "python",
   "nbconvert_exporter": "python",
   "pygments_lexer": "ipython3",
   "version": "3.9.13"
  }
 },
 "nbformat": 4,
 "nbformat_minor": 1
}
