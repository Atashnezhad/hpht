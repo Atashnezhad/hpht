{
 "cells": [
  {
   "cell_type": "code",
   "execution_count": 34,
   "metadata": {
    "collapsed": true,
    "ExecuteTime": {
     "end_time": "2023-06-03T20:53:15.808515Z",
     "start_time": "2023-06-03T20:53:15.802309Z"
    }
   },
   "outputs": [],
   "source": [
    "from pathlib import Path\n",
    "import json"
   ]
  },
  {
   "cell_type": "code",
   "execution_count": 35,
   "outputs": [],
   "source": [
    "from main import MyPlot"
   ],
   "metadata": {
    "collapsed": false,
    "ExecuteTime": {
     "end_time": "2023-06-03T20:53:17.159281Z",
     "start_time": "2023-06-03T20:53:17.150358Z"
    }
   }
  },
  {
   "cell_type": "code",
   "execution_count": 36,
   "outputs": [],
   "source": [
    "# read data from the data folder\n",
    "data_folder = Path(\"__file__\").parent / \"data\"\n",
    "data_file_name = \"data.json\"\n",
    "with open(data_folder / data_file_name, \"r\") as f:\n",
    "    json_data = f.read()\n",
    "# Parse the JSON data\n",
    "data = json.loads(json_data)"
   ],
   "metadata": {
    "collapsed": false,
    "ExecuteTime": {
     "end_time": "2023-06-03T20:53:17.771582Z",
     "start_time": "2023-06-03T20:53:17.764572Z"
    }
   }
  },
  {
   "cell_type": "code",
   "execution_count": 37,
   "outputs": [
    {
     "name": "stdout",
     "output_type": "stream",
     "text": [
      "dict_keys(['HPyBF4_CP', 'HPyBF4_CT', 'HPyBr_CP', 'HPyBr_CT', 'OPyBr_CP', 'BMIMBr_CP_CT', 'BMIMBr_CT', 'DES117_CP'])\n"
     ]
    }
   ],
   "source": [
    "# print keys of the data\n",
    "print(data.keys())"
   ],
   "metadata": {
    "collapsed": false,
    "ExecuteTime": {
     "end_time": "2023-06-03T20:53:18.525020Z",
     "start_time": "2023-06-03T20:53:18.515265Z"
    }
   }
  },
  {
   "cell_type": "code",
   "execution_count": 38,
   "outputs": [],
   "source": [
    "obj = MyPlot()"
   ],
   "metadata": {
    "collapsed": false,
    "ExecuteTime": {
     "end_time": "2023-06-03T20:53:19.165262Z",
     "start_time": "2023-06-03T20:53:19.158227Z"
    }
   }
  },
  {
   "cell_type": "code",
   "execution_count": 39,
   "outputs": [
    {
     "ename": "AttributeError",
     "evalue": "'MyPlot' object has no attribute 'plot_data_2'",
     "output_type": "error",
     "traceback": [
      "\u001B[0;31m---------------------------------------------------------------------------\u001B[0m",
      "\u001B[0;31mAttributeError\u001B[0m                            Traceback (most recent call last)",
      "\u001B[0;32m<ipython-input-39-d32368357683>\u001B[0m in \u001B[0;36m<module>\u001B[0;34m()\u001B[0m\n\u001B[1;32m     26\u001B[0m \u001B[0;34m\u001B[0m\u001B[0m\n\u001B[1;32m     27\u001B[0m \u001B[0;32mfor\u001B[0m \u001B[0mcase\u001B[0m \u001B[0;32min\u001B[0m \u001B[0mmy_list\u001B[0m\u001B[0;34m:\u001B[0m\u001B[0;34m\u001B[0m\u001B[0m\n\u001B[0;32m---> 28\u001B[0;31m     obj.plot_data_2(\n\u001B[0m\u001B[1;32m     29\u001B[0m     \u001B[0mdata\u001B[0m\u001B[0;34m,\u001B[0m\u001B[0;34m\u001B[0m\u001B[0m\n\u001B[1;32m     30\u001B[0m     \u001B[0mcase\u001B[0m\u001B[0;34m,\u001B[0m\u001B[0;34m\u001B[0m\u001B[0m\n",
      "\u001B[0;31mAttributeError\u001B[0m: 'MyPlot' object has no attribute 'plot_data_2'"
     ]
    }
   ],
   "source": [
    "my_list =[\n",
    "    'HPyBF4_CP',\n",
    "    # 'HPyBF4_CT',\n",
    "\n",
    "    'HPyBr_CP',\n",
    "    # 'HPyBr_CT',\n",
    "\n",
    "    'OPyBr_CP',\n",
    "\n",
    "    'BMIMBr_CP_CT',\n",
    "    # 'BMIMBr_CT'\n",
    "\n",
    "    'DES117_CP'\n",
    "]\n",
    "\n",
    "mapping_dict = {\n",
    "    \"HPyBF4_CP\": \"1-Hexylpyridinium tetrafluoroborate (HPyBF4)\\n at constant pressure = 100 psi\",\n",
    "    \"HPyBr_CP\": \"N-Hexylpyridinium bromide (HPyBr)\\n at constant pressure = 100 psi\",\n",
    "    \"OPyBr_CP\": \"1-Octylpyridinium bromide (OPyBr)\\n at constant pressure = 100 psi\",\n",
    "    \"HPyBF4_CT\": \"1-Hexylpyridinium tetrafluoroborate (HPyBF4)\\n at constant temperature = 380 deg F\",\n",
    "    \"HPyBr_CT\": \"N-Hexylpyridinium bromide (HPyBr)\\n at constant temperature = 380 deg F\",\n",
    "    \"BMIMBr_CP_CT\": \"1-Butyl-3-methylimidazolium bromide (BMIMBr)\\n at constant pressure 100 psi and temperature 74 deg F\",\n",
    "    \"BMIMBr_CT\": \"1-Butyl-3-methylimidazolium bromide (BMIMBr)\\n at constant temperature = 380 deg F\",\n",
    "    \"DES117_CP\": \"ChCl-MgCl2(6H2O) (DES117)\\n at constant pressure = 100 psi\"\n",
    "}\n",
    "\n",
    "for case in my_list:\n",
    "    obj.plot_data_2(\n",
    "    data,\n",
    "    case,\n",
    "    grouop_by_parameter='T',\n",
    "    x_parameter='SR',\n",
    "    y_parameter='SS',\n",
    "    legend_units='deg F',\n",
    "    x_axis_label='Shear rate (1/sec)',\n",
    "    y_axis_label='Shear Stress (dyne/cm^2)',\n",
    "    maping_dict=mapping_dict,\n",
    "    font_size=22,\n",
    "    axis_font_size=22\n",
    ")"
   ],
   "metadata": {
    "collapsed": false,
    "ExecuteTime": {
     "end_time": "2023-06-03T20:53:19.836735Z",
     "start_time": "2023-06-03T20:53:19.812317Z"
    }
   }
  },
  {
   "cell_type": "code",
   "execution_count": null,
   "outputs": [],
   "source": [],
   "metadata": {
    "collapsed": false
   }
  }
 ],
 "metadata": {
  "kernelspec": {
   "display_name": "Python 3",
   "language": "python",
   "name": "python3"
  },
  "language_info": {
   "codemirror_mode": {
    "name": "ipython",
    "version": 2
   },
   "file_extension": ".py",
   "mimetype": "text/x-python",
   "name": "python",
   "nbconvert_exporter": "python",
   "pygments_lexer": "ipython2",
   "version": "2.7.6"
  }
 },
 "nbformat": 4,
 "nbformat_minor": 0
}
