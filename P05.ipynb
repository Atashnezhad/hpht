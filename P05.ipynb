{
 "cells": [
  {
   "cell_type": "code",
   "execution_count": 1,
   "metadata": {
    "collapsed": true,
    "ExecuteTime": {
     "end_time": "2023-06-07T16:18:29.238575900Z",
     "start_time": "2023-06-07T16:18:29.230577Z"
    }
   },
   "outputs": [],
   "source": [
    "from pathlib import Path\n",
    "import json"
   ]
  },
  {
   "cell_type": "code",
   "execution_count": 2,
   "outputs": [],
   "source": [
    "from main import MyPlot"
   ],
   "metadata": {
    "collapsed": false,
    "ExecuteTime": {
     "end_time": "2023-06-07T16:18:34.388347600Z",
     "start_time": "2023-06-07T16:18:31.419313Z"
    }
   }
  },
  {
   "cell_type": "code",
   "execution_count": 3,
   "outputs": [],
   "source": [
    "# read data from the data folder\n",
    "data_folder = Path(\"__file__\").parent / \"data\"\n",
    "data_file_name = \"data.json\"\n",
    "with open(data_folder / data_file_name, \"r\") as f:\n",
    "    json_data = f.read()\n",
    "# Parse the JSON data\n",
    "data = json.loads(json_data)"
   ],
   "metadata": {
    "collapsed": false,
    "ExecuteTime": {
     "end_time": "2023-06-07T16:18:38.436510900Z",
     "start_time": "2023-06-07T16:18:38.414829500Z"
    }
   }
  },
  {
   "cell_type": "code",
   "execution_count": 4,
   "outputs": [
    {
     "name": "stdout",
     "output_type": "stream",
     "text": [
      "dict_keys(['HPyBF4_CP', 'HPyBF4_CT', 'HPyBr_CP', 'HPyBr_CT', 'OPyBr_CP', 'BMIMBr_CP_CT', 'BMIMBr_CT', 'DES117_CP'])\n"
     ]
    }
   ],
   "source": [
    "# print keys of the data\n",
    "print(data.keys())"
   ],
   "metadata": {
    "collapsed": false,
    "ExecuteTime": {
     "end_time": "2023-06-07T16:18:43.342012100Z",
     "start_time": "2023-06-07T16:18:43.303014500Z"
    }
   }
  },
  {
   "cell_type": "code",
   "execution_count": 8,
   "outputs": [
    {
     "data": {
      "text/plain": "      P   SR          cP    T          SS\n0   100   25  355.749373   74   88.937343\n1   100   50  341.352386   74  170.676193\n2   100   75  342.633442   74  256.975087\n3   100  100  338.029236   74  338.029236\n4   100   25   88.053343  120   22.013336\n5   100   50   79.913650  120   37.909073\n6   100   75   75.364218  120   56.523162\n7   100  100   76.642495  120   76.642495\n8   100   25   39.760804  220   10.494803\n9   100   50   24.759333  220   11.448863\n10  100   75   17.747259  220   13.310444\n11  100  100   15.955453  220   14.846250\n12  100   25   37.371799  310    9.342950\n13  100   50   19.267644  310    9.633822\n14  100   75   13.558710  310    9.726901\n15  100  100   10.238835  310   10.238835\n16  100   25   36.859863  410    9.214966\n17  100   50   19.919222  410    9.168426\n18  100   75   12.286621  410    9.214966\n19  100  100    9.214966  410    9.214966\n20  100   25   34.812122  480    8.703031\n21  100   50   17.406061  480    8.703031\n22  100   75   12.379708  480    8.889189\n23  100  100    9.214966  480    9.214966",
      "text/html": "<div>\n<style scoped>\n    .dataframe tbody tr th:only-of-type {\n        vertical-align: middle;\n    }\n\n    .dataframe tbody tr th {\n        vertical-align: top;\n    }\n\n    .dataframe thead th {\n        text-align: right;\n    }\n</style>\n<table border=\"1\" class=\"dataframe\">\n  <thead>\n    <tr style=\"text-align: right;\">\n      <th></th>\n      <th>P</th>\n      <th>SR</th>\n      <th>cP</th>\n      <th>T</th>\n      <th>SS</th>\n    </tr>\n  </thead>\n  <tbody>\n    <tr>\n      <th>0</th>\n      <td>100</td>\n      <td>25</td>\n      <td>355.749373</td>\n      <td>74</td>\n      <td>88.937343</td>\n    </tr>\n    <tr>\n      <th>1</th>\n      <td>100</td>\n      <td>50</td>\n      <td>341.352386</td>\n      <td>74</td>\n      <td>170.676193</td>\n    </tr>\n    <tr>\n      <th>2</th>\n      <td>100</td>\n      <td>75</td>\n      <td>342.633442</td>\n      <td>74</td>\n      <td>256.975087</td>\n    </tr>\n    <tr>\n      <th>3</th>\n      <td>100</td>\n      <td>100</td>\n      <td>338.029236</td>\n      <td>74</td>\n      <td>338.029236</td>\n    </tr>\n    <tr>\n      <th>4</th>\n      <td>100</td>\n      <td>25</td>\n      <td>88.053343</td>\n      <td>120</td>\n      <td>22.013336</td>\n    </tr>\n    <tr>\n      <th>5</th>\n      <td>100</td>\n      <td>50</td>\n      <td>79.913650</td>\n      <td>120</td>\n      <td>37.909073</td>\n    </tr>\n    <tr>\n      <th>6</th>\n      <td>100</td>\n      <td>75</td>\n      <td>75.364218</td>\n      <td>120</td>\n      <td>56.523162</td>\n    </tr>\n    <tr>\n      <th>7</th>\n      <td>100</td>\n      <td>100</td>\n      <td>76.642495</td>\n      <td>120</td>\n      <td>76.642495</td>\n    </tr>\n    <tr>\n      <th>8</th>\n      <td>100</td>\n      <td>25</td>\n      <td>39.760804</td>\n      <td>220</td>\n      <td>10.494803</td>\n    </tr>\n    <tr>\n      <th>9</th>\n      <td>100</td>\n      <td>50</td>\n      <td>24.759333</td>\n      <td>220</td>\n      <td>11.448863</td>\n    </tr>\n    <tr>\n      <th>10</th>\n      <td>100</td>\n      <td>75</td>\n      <td>17.747259</td>\n      <td>220</td>\n      <td>13.310444</td>\n    </tr>\n    <tr>\n      <th>11</th>\n      <td>100</td>\n      <td>100</td>\n      <td>15.955453</td>\n      <td>220</td>\n      <td>14.846250</td>\n    </tr>\n    <tr>\n      <th>12</th>\n      <td>100</td>\n      <td>25</td>\n      <td>37.371799</td>\n      <td>310</td>\n      <td>9.342950</td>\n    </tr>\n    <tr>\n      <th>13</th>\n      <td>100</td>\n      <td>50</td>\n      <td>19.267644</td>\n      <td>310</td>\n      <td>9.633822</td>\n    </tr>\n    <tr>\n      <th>14</th>\n      <td>100</td>\n      <td>75</td>\n      <td>13.558710</td>\n      <td>310</td>\n      <td>9.726901</td>\n    </tr>\n    <tr>\n      <th>15</th>\n      <td>100</td>\n      <td>100</td>\n      <td>10.238835</td>\n      <td>310</td>\n      <td>10.238835</td>\n    </tr>\n    <tr>\n      <th>16</th>\n      <td>100</td>\n      <td>25</td>\n      <td>36.859863</td>\n      <td>410</td>\n      <td>9.214966</td>\n    </tr>\n    <tr>\n      <th>17</th>\n      <td>100</td>\n      <td>50</td>\n      <td>19.919222</td>\n      <td>410</td>\n      <td>9.168426</td>\n    </tr>\n    <tr>\n      <th>18</th>\n      <td>100</td>\n      <td>75</td>\n      <td>12.286621</td>\n      <td>410</td>\n      <td>9.214966</td>\n    </tr>\n    <tr>\n      <th>19</th>\n      <td>100</td>\n      <td>100</td>\n      <td>9.214966</td>\n      <td>410</td>\n      <td>9.214966</td>\n    </tr>\n    <tr>\n      <th>20</th>\n      <td>100</td>\n      <td>25</td>\n      <td>34.812122</td>\n      <td>480</td>\n      <td>8.703031</td>\n    </tr>\n    <tr>\n      <th>21</th>\n      <td>100</td>\n      <td>50</td>\n      <td>17.406061</td>\n      <td>480</td>\n      <td>8.703031</td>\n    </tr>\n    <tr>\n      <th>22</th>\n      <td>100</td>\n      <td>75</td>\n      <td>12.379708</td>\n      <td>480</td>\n      <td>8.889189</td>\n    </tr>\n    <tr>\n      <th>23</th>\n      <td>100</td>\n      <td>100</td>\n      <td>9.214966</td>\n      <td>480</td>\n      <td>9.214966</td>\n    </tr>\n  </tbody>\n</table>\n</div>"
     },
     "execution_count": 8,
     "metadata": {},
     "output_type": "execute_result"
    }
   ],
   "source": [
    "import pandas as pd\n",
    "pd.DataFrame((data[\"HPyBF4_CP\"]))"
   ],
   "metadata": {
    "collapsed": false,
    "ExecuteTime": {
     "end_time": "2023-06-07T16:24:24.467189300Z",
     "start_time": "2023-06-07T16:24:24.414910900Z"
    }
   }
  },
  {
   "cell_type": "code",
   "execution_count": 2,
   "outputs": [],
   "source": [
    "# make a 3D plot for the data SR, cP, and T\n",
    "obj = MyPlot(data[\"HPyBF4_CP\"], \"SR\", \"cP\", \"T\")\n"
   ],
   "metadata": {
    "collapsed": false,
    "ExecuteTime": {
     "end_time": "2023-06-07T16:18:34.497560100Z",
     "start_time": "2023-06-07T16:18:34.493531500Z"
    }
   }
  },
  {
   "cell_type": "code",
   "execution_count": 2,
   "outputs": [],
   "source": [],
   "metadata": {
    "collapsed": false,
    "ExecuteTime": {
     "end_time": "2023-06-07T16:18:34.497560100Z",
     "start_time": "2023-06-07T16:18:34.493531500Z"
    }
   }
  },
  {
   "cell_type": "code",
   "execution_count": null,
   "outputs": [],
   "source": [],
   "metadata": {
    "collapsed": false
   }
  }
 ],
 "metadata": {
  "kernelspec": {
   "display_name": "Python 3",
   "language": "python",
   "name": "python3"
  },
  "language_info": {
   "codemirror_mode": {
    "name": "ipython",
    "version": 2
   },
   "file_extension": ".py",
   "mimetype": "text/x-python",
   "name": "python",
   "nbconvert_exporter": "python",
   "pygments_lexer": "ipython2",
   "version": "2.7.6"
  }
 },
 "nbformat": 4,
 "nbformat_minor": 0
}
